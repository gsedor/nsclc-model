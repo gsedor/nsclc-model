{
 "cells": [
  {
   "cell_type": "code",
   "execution_count": 1,
   "metadata": {},
   "outputs": [],
   "source": [
    "import numpy as np\n",
    "exp = np.exp\n",
    "arange = np.arange\n",
    "ln = np.log\n",
    "from datetime import *\n",
    "\n",
    "import matplotlib.pyplot as plt\n",
    "from matplotlib import patches\n",
    "\n",
    "import plotly.plotly as py\n",
    "import plotly.graph_objs as go\n",
    "\n",
    "from scipy.stats import norm\n",
    "from scipy import interpolate as interp\n",
    "pdf = norm.pdf\n",
    "cdf = norm.cdf\n",
    "ppf = norm.ppf\n",
    "\n",
    "from scipy import stats\n",
    "from scipy import special\n",
    "erf = special.erf\n",
    "\n",
    "import pandas as pd\n",
    "import palettable\n",
    "import seaborn as sns\n",
    "cp = sns.color_palette()\n",
    "\n",
    "from lifelines import KaplanMeierFitter\n",
    "from sklearn.metrics import brier_score_loss\n",
    "from sklearn.linear_model import LogisticRegression\n",
    "from sklearn import mixture\n",
    "from sklearn import preprocessing"
   ]
  },
  {
   "cell_type": "code",
   "execution_count": 29,
   "metadata": {},
   "outputs": [],
   "source": [
    "nsclc = pd.read_csv('/Users/geoffreysedor/Documents/nsclc_data.csv')\n",
    "\n",
    "lc_df = pd.read_csv('/Users/geoffreysedor/Documents/lc_data.csv')"
   ]
  },
  {
   "cell_type": "markdown",
   "metadata": {},
   "source": [
    "## kde / cdf functions"
   ]
  },
  {
   "cell_type": "code",
   "execution_count": 4,
   "metadata": {},
   "outputs": [],
   "source": [
    "def create_kde(array, bandwidth=None):\n",
    "    \"\"\" calculating KDE and CDF using scipy \"\"\"\n",
    "    if bandwidth == None:\n",
    "        bw = 'scott'\n",
    "    else:\n",
    "        bw = bandwidth\n",
    "    kde = stats.gaussian_kde(dataset=array,bw_method=bw)\n",
    "    \n",
    "    num_test_points=200\n",
    "    x = np.linspace(0,np.max(array)*1.2,num_test_points)\n",
    "    kdens=kde.pdf(x)\n",
    "    \n",
    "    cdf=np.zeros(shape=num_test_points)\n",
    "    for i in range(num_test_points):\n",
    "        cdf[i] = kde.integrate_box_1d(low=0,high=x[i])\n",
    "        \n",
    "    return x,kdens,cdf\n",
    "\n",
    "\n",
    "def calc_cdf(array,var,bandwidth=None):\n",
    "    if bandwidth == None:\n",
    "        bw = 1.2*array.std()*np.power(array.size,-1/5)\n",
    "    else:\n",
    "        bw = bandwidth\n",
    "    kde=stats.gaussian_kde(dataset=array,bw_method=bw)\n",
    "    return kde.integrate_box_1d(low=0,high=var)\n",
    "\n",
    "\n"
   ]
  },
  {
   "cell_type": "markdown",
   "metadata": {},
   "source": [
    "## NTCP adjustments:"
   ]
  },
  {
   "cell_type": "code",
   "execution_count": 14,
   "metadata": {},
   "outputs": [],
   "source": [
    "def prob_pneumonitis(dose_h, dose_l = 0):\n",
    "    fx_to_lung = 8.5\n",
    "    MLDh = dose_h/fx_to_lung\n",
    "    MLDl = dose_l/fx_to_lung\n",
    "    b0 = -3.87\n",
    "    b1 = 0.126\n",
    "    prob_h = np.exp(b0+b1*MLDh)/(1+np.exp(b0+b1*MLDh))\n",
    "    if np.all(dose_l==0):\n",
    "        prob_l = np.exp(b0+b1*MLDl)/(1+np.exp(b0+b1*MLDl))\n",
    "    else:\n",
    "        prob_l = np.zeros(dose_l.size)\n",
    "    return prob_h, prob_l\n",
    "\n",
    "def pneumonitis_RR(dose_h, dose_l = 0):\n",
    "    prob_h, prob_l = prob_pneumonitis(dose_h,dose_l)\n",
    "    rr = (1+prob_h)/(1+prob_l)\n",
    "    return np.round(rr,3)\n",
    "\n",
    "def prob_esoph(dose_h, dose_l = 0):\n",
    "    EUD1 = dose_h/4\n",
    "    EUD2 = dose_l/4\n",
    "    TD50 = 47\n",
    "    m = 0.36\n",
    "    t1 = (EUD1-TD50)/(m*TD50)\n",
    "    t2 = (EUD2-TD50)/(m*TD50)\n",
    "    y = (erf(t1)-erf(t2))/2\n",
    "    return np.round(y,3)\n",
    "\n",
    "def esophagitis_RR(dose_h, dose_l = 0):\n",
    "    \n",
    "    prob_h = prob_esoph(dose_h)\n",
    "    prob_l = prob_esoph(dose_l)\n",
    "    rr = (1+prob_h)/(1+prob_l)\n",
    "    return np.round(rr,4)\n",
    "\n",
    "def cardiac_event_RR(dose_h, dose_l = 0):\n",
    "    \n",
    "    dose_diff = dose_h-dose_l\n",
    "    delta_dose_heart = np.mean((dose_h-dose_l)/14)\n",
    "    risk_per_gy = np.zeros(len(t))\n",
    "    risk_per_gy = np.where(t<5,16.3,0)\n",
    "    risk_per_gy = np.where(5<=t,15.5,risk_per_gy)\n",
    "    risk_per_gy = np.where(t>=10,1.2,risk_per_gy)\n",
    "    #risk_per_gy = 7.4    #  percent increased risk\n",
    "    cardiac_event_rr = 1+risk_per_gy*delta_dose_heart/100\n",
    "#     cardiac_event_rr = 1+.074*delta_dose_heart\n",
    "    \n",
    "    return cardiac_event_rr\n"
   ]
  },
  {
   "cell_type": "code",
   "execution_count": 32,
   "metadata": {},
   "outputs": [],
   "source": [
    "def H_esoph(dose_h, dose_l = 0, CI = None):\n",
    "    EUD1 = dose_h/4\n",
    "    EUD2 = dose_l/4\n",
    "    TD50 = 47\n",
    "    TD50l = 60\n",
    "    TD50u = 41\n",
    "    \n",
    "    m = 0.36\n",
    "    mu = 0.55\n",
    "    ml = 0.25\n",
    "    \n",
    "    if CI == 'upper':\n",
    "        TD50 = TD50u\n",
    "        m = mu\n",
    "    elif CI == 'lower':\n",
    "        TD50 = TD50l\n",
    "        m = ml\n",
    "        \n",
    "    t1 = (EUD1-TD50)/(m*TD50)\n",
    "    t2 = (EUD2-TD50)/(m*TD50)\n",
    "    y = (erf(t1)-erf(t2))/2\n",
    "    return np.round(y,3)\n",
    "\n",
    "def H_lung(dose_h, dose_l = 0, CI = None):\n",
    "    fx_to_lung = 1/8.5\n",
    "    MLDh = dose_h*fx_to_lung\n",
    "    MLDl = dose_l*fx_to_lung\n",
    "    b0 = -3.87\n",
    "    b0u = -3.33\n",
    "    b0l =  -4.49\n",
    "    \n",
    "    b1 = 0.126\n",
    "    b1u = .153\n",
    "    b1l = .100\n",
    "\n",
    "    if CI == 'upper':\n",
    "        b0 = b0u\n",
    "        b1 = b1u\n",
    "    elif CI == 'lower':\n",
    "        b0 = b0l\n",
    "        b1 = b1l\n",
    "    \n",
    "    prob_h = np.exp(b0+b1*MLDh)/(1+np.exp(b0+b1*MLDh))\n",
    "    if np.all(dose_l==0):\n",
    "        prob_l = np.exp(b0+b1*MLDl)/(1+np.exp(b0+b1*MLDl))\n",
    "    else:\n",
    "        prob_l = np.zeros(dose_l.size)\n",
    "    return prob_h - prob_l\n",
    "\n",
    "def RH_cardiac(d,CI=None):\n",
    "    d=d/14\n",
    "    if CI =='upper':\n",
    "        RR = 1 + .643*d\n",
    "    elif CI == 'lower':\n",
    "        RR = 1 + .03*d\n",
    "    else:\n",
    "        RR = 1 + .163*d\n",
    "    return RR\n",
    "\n",
    "def RH_cardiac_20yr(d,CI=None):\n",
    "    d=d/14\n",
    "    if CI =='upper':\n",
    "        RR = 1 + .074*d\n",
    "    elif CI == 'lower':\n",
    "        RR = 1 + .029*d\n",
    "    else:\n",
    "        RR = 1 + .145*d\n",
    "    return RR\n",
    "\n"
   ]
  },
  {
   "cell_type": "code",
   "execution_count": 38,
   "metadata": {},
   "outputs": [
    {
     "data": {
      "text/plain": [
       "<matplotlib.lines.Line2D at 0x1a23d34160>"
      ]
     },
     "execution_count": 38,
     "metadata": {},
     "output_type": "execute_result"
    },
    {
     "data": {
      "image/png": "[encoded data removed]",
      "text/plain": [
       "<Figure size 432x288 with 1 Axes>"
      ]
     },
     "metadata": {
      "needs_background": "light"
     },
     "output_type": "display_data"
    }
   ],
   "source": [
    "d = np.arange(10,80,.1)\n",
    "p = 100*(prob_pneumonitis(d)[0]-prob_pneumonitis(d)[1])\n",
    "p2 = 100*H_lung(d,CI='upper')\n",
    "p3 = 100*H_lung(d,CI='lower')\n",
    "e = 100*prob_esoph(d)\n",
    "e2 = 100*H_esoph(d,CI='lower')\n",
    "e3 = 100*H_esoph(d,CI='upper')\n",
    "c = .074*d/14\n",
    "\n",
    "fig,ax = plt.subplots()\n",
    "\n",
    "ax.plot(d,p2,d,p3)\n",
    "ax.plot(d,e2,d,e3)\n",
    "\n",
    "ax.set_ylim(-.5,10)\n",
    "ax.grid(True)\n",
    "ax.axhline(y=0,c='k',lw=1)\n"
   ]
  },
  {
   "cell_type": "code",
   "execution_count": 31,
   "metadata": {},
   "outputs": [
    {
     "name": "stdout",
     "output_type": "stream",
     "text": [
      "0.98519892427296\n",
      "0.9241615463007095\n",
      "-0.5353474672908778 [0.05675477]\n",
      "[-1.09999658] [[0.02597576]]\n"
     ]
    },
    {
     "data": {
      "text/plain": [
       "[<matplotlib.lines.Line2D at 0x1a1a659e10>]"
      ]
     },
     "execution_count": 31,
     "metadata": {},
     "output_type": "execute_result"
    },
    {
     "data": {
      "image/png": "[encoded data removed]",
      "text/plain": [
       "<Figure size 432x288 with 1 Axes>"
      ]
     },
     "metadata": {
      "needs_background": "light"
     },
     "output_type": "display_data"
    }
   ],
   "source": [
    "d = np.arange(10,80,.1)\n",
    "p = 100*(prob_pneumonitis(d)[0]-prob_pneumonitis(d)[1])\n",
    "e = 100*prob_esoph(d)\n",
    "e_0 = 100*H_esoph_0(d)\n",
    "c = .074*d/14\n",
    "\n",
    "fig,ax = plt.subplots()\n",
    "ax.plot(d,p)\n",
    "ax.plot(d,e)\n",
    "ax.plot(d,e_0, color=(.4,.4,.4),ls='--')\n",
    "\n",
    "ax.set_ylim(-.5,5)\n",
    "ax.grid(True)\n",
    "ax.axhline(y=0,c='k',lw=1)\n",
    "\n",
    "from sklearn.linear_model import LinearRegression\n",
    "\n",
    "lr = LinearRegression()\n",
    "d=d.reshape(-1,1)\n",
    "lr.fit(d,p)\n",
    "print(lr.score(d,p))\n",
    "\n",
    "d2 = np.arange(40,80,.1)\n",
    "d2=d2.reshape(-1,1)\n",
    "e2 = 100*prob_esoph(d2)\n",
    "lr2 = LinearRegression()\n",
    "lr2.fit(d2,e2)\n",
    "print(lr2.score(d2,e2))\n",
    "\n",
    "print(lr.intercept_,lr.coef_)\n",
    "print(lr2.intercept_,lr2.coef_)\n",
    "\n",
    "def risk_p(dose):\n",
    "    d = np.maximum(dose-18,0)\n",
    "    r = d*0.068\n",
    "    return r\n",
    "def risk_e(dose):\n",
    "    d = np.maximum(dose-40,0)\n",
    "    r = 0.026*d\n",
    "    return r\n",
    "\n",
    "ax.plot(d,risk_p(d))\n",
    "ax.plot(d,risk_e(d))"
   ]
  },
  {
   "cell_type": "code",
   "execution_count": 28,
   "metadata": {},
   "outputs": [],
   "source": [
    "\n",
    "from scipy.stats import norm\n",
    "\n",
    "def H_esoph(dose):\n",
    "    y=norm.cdf(dose/4,51,14)\n",
    "    return y\n",
    "\n",
    "\n",
    "def H_lung(dose_h, dose_l = 0, CI = None):\n",
    "    fx_to_lung = 1/8.5\n",
    "    MLDh = dose_h*fx_to_lung\n",
    "    MLDl = dose_l*fx_to_lung\n",
    "    b0 = -3.87\n",
    "    b0u = -3.33\n",
    "    b0l =  -4.49\n",
    "    \n",
    "    b1 = 0.126\n",
    "    b1u = .153\n",
    "    b1l = .100\n",
    "    \n",
    "    # TD50 = 30.75 [28.7–33.9] Gy\n",
    "    if CI == 'upper':\n",
    "        b0 = b0u\n",
    "        b1 = b1u\n",
    "    elif CI == 'lower':\n",
    "        b0 = b0l\n",
    "        b1 = b1l\n",
    "    \n",
    "    prob_h = np.exp(b0+b1*MLDh)/(1+np.exp(b0+b1*MLDh))\n",
    "    if np.all(dose_l==0):\n",
    "        prob_l = np.exp(b0+b1*MLDl)/(1+np.exp(b0+b1*MLDl))\n",
    "    else:\n",
    "        prob_l = np.zeros(dose_l.size)\n",
    "    return prob_h - prob_l\n",
    "\n",
    "def risk_p(dose):\n",
    "    d = np.maximum(dose-18,0)\n",
    "    r = d*0.068\n",
    "    return r\n",
    "def risk_e(dose):\n",
    "    d = np.maximum(dose-40,0)\n",
    "    r = 0.026*d\n",
    "    return r"
   ]
  },
  {
   "cell_type": "code",
   "execution_count": 46,
   "metadata": {},
   "outputs": [],
   "source": [
    "def risk_p(dose):\n",
    "    r = H_lung(dose)\n",
    "    return r\n",
    "def risk_e(dose):\n",
    "    r = H_esoph(dose)\n",
    "    return r"
   ]
  },
  {
   "cell_type": "markdown",
   "metadata": {},
   "source": [
    "## fig 4"
   ]
  },
  {
   "cell_type": "markdown",
   "metadata": {},
   "source": [
    "### tcc hist with percentages (first panel)"
   ]
  },
  {
   "cell_type": "code",
   "execution_count": 10,
   "metadata": {},
   "outputs": [
    {
     "data": {
      "text/plain": [
       "Text(0.5,0,'RxRSI for TCC Lung')"
      ]
     },
     "execution_count": 10,
     "metadata": {},
     "output_type": "execute_result"
    },
    {
     "data": {
      "image/png": "[encoded data removed]",
      "text/plain": [
       "<Figure size 576x432 with 1 Axes>"
      ]
     },
     "metadata": {
      "needs_background": "light"
     },
     "output_type": "display_data"
    }
   ],
   "source": [
    "r = nsclc.rsi\n",
    "\n",
    "d = 2\n",
    "beta = 0.05\n",
    "\n",
    "# for SF2 alpha\n",
    "n = 1\n",
    "alpha_tcc = (np.log(r)+beta*n*(d**2))/(-n*d)\n",
    "rxdose_tcc = 33/(alpha_tcc+beta*d)\n",
    "rxdose_tcc=rxdose_tcc.values\n",
    "\n",
    "\"\"\" plotting histograms \"\"\"\n",
    "fig, ax = plt.subplots(figsize=(8,6))\n",
    "binlist=list(np.arange(0,150,2))+[300]\n",
    "\n",
    "\"\"\" <60 range \"\"\"\n",
    "xdata = rxdose_tcc[np.where(rxdose_tcc<60)]\n",
    "wts =  np.full(len(xdata),.0002)\n",
    "ax.hist(xdata,bins = binlist,\n",
    "        alpha=.6,#ec = 'k',\n",
    "        color=cp[0],  \n",
    "        weights = wts)\n",
    "\n",
    "\"\"\" 60-74 range \"\"\"\n",
    "xdata = rxdose_tcc[np.where((rxdose_tcc>60)&(rxdose_tcc<74))]\n",
    "wts =  np.full(len(xdata),.0002)\n",
    "ax.hist(xdata,bins = binlist,\n",
    "        alpha=.8,#ec = 'k',\n",
    "        color=(.4,.4,.4),  \n",
    "        weights = wts,zorder=5)\n",
    "\n",
    "\"\"\" >74 range \"\"\"\n",
    "xdata = rxdose_tcc[np.where((rxdose_tcc>74))]  #&(rxdose_tcc<80))]\n",
    "wts =  np.full(len(xdata),.0002)\n",
    "ax.hist(xdata,bins = binlist,\n",
    "        alpha=.7,#ec = 'k',\n",
    "        color=cp[3],  \n",
    "        weights = wts)\n",
    "\n",
    "rxdose_kde = create_kde(rxdose_tcc,bandwidth=.15)\n",
    "\n",
    "pp_60 = np.where(rxdose_kde[0]<=60,rxdose_kde[2],0).max()\n",
    "pp_74 = np.where(rxdose_kde[0]<=74,rxdose_kde[2],0).max()\n",
    "pp_60_74 = pp_74 - pp_60\n",
    "pp_over_74 = 1 - pp_74\n",
    "\n",
    "rxdose_kde = create_kde(rxdose_tcc,bandwidth=.26)\n",
    "ax.plot(rxdose_kde[0], rxdose_kde[1] , c=(.4,.4,.4),lw=1,ls='-',label = 'KDE')\n",
    "\n",
    "ax.text(.25,.65,'{:0.1f}%'.format(pp_60*100), transform=ax.transAxes, fontsize=15)\n",
    "ax.text(.485,.8,'{:0.1f}%'.format(pp_60_74*100), transform=ax.transAxes,fontsize=15)\n",
    "ax.text(.65,.65,'{:0.1f}%'.format(pp_over_74*100), transform=ax.transAxes,fontsize=15)\n",
    "\n",
    "ax.axvline(x = 60,c='k',lw=1,ls='--')\n",
    "ax.axvline(x = 74,c='k',lw=1,ls='--')\n",
    "\n",
    "\n",
    "ax.set_xlim(0,125)\n",
    "ax.set_yticks([])\n",
    "ax.set_xlabel('RxRSI for TCC Lung')\n"
   ]
  },
  {
   "cell_type": "markdown",
   "metadata": {},
   "source": [
    "## 60 pt group outcome analysis"
   ]
  },
  {
   "cell_type": "code",
   "execution_count": 11,
   "metadata": {},
   "outputs": [],
   "source": [
    "from lifelines import KaplanMeierFitter\n",
    "from lifelines import WeibullFitter\n",
    "from lifelines import CoxPHFitter\n",
    "from lifelines.statistics import logrank_test"
   ]
  },
  {
   "cell_type": "markdown",
   "metadata": {},
   "source": [
    "### km fits"
   ]
  },
  {
   "cell_type": "code",
   "execution_count": 13,
   "metadata": {},
   "outputs": [
    {
     "data": {
      "text/plain": [
       "<lifelines.KaplanMeierFitter: fitted with 60 observations, 37 censored>"
      ]
     },
     "execution_count": 13,
     "metadata": {},
     "output_type": "execute_result"
    }
   ],
   "source": [
    "T = lc_df['td_yrs'].values\n",
    "E = lc_df['LocalFailure'].values\n",
    "\n",
    "idx = lc_df.gardtx>=33\n",
    "T1 = T[idx]\n",
    "T2 = T[~idx]\n",
    "E1 = E[idx]\n",
    "E2 = E[~idx]\n",
    "\n",
    "km1 = KaplanMeierFitter()\n",
    "km1.fit(T1, event_observed = E1, label = 'KM GARD>33')\n",
    "km2 = KaplanMeierFitter()\n",
    "km2.fit(T2, event_observed = E2, label = 'KM GARD<33')\n",
    "km_all = KaplanMeierFitter()\n",
    "km_all.fit(T, event_observed = E, label = 'KM All')\n"
   ]
  },
  {
   "cell_type": "code",
   "execution_count": 14,
   "metadata": {},
   "outputs": [
    {
     "data": {
      "text/plain": [
       "<matplotlib.collections.PathCollection at 0x1a18e29400>"
      ]
     },
     "execution_count": 14,
     "metadata": {},
     "output_type": "execute_result"
    },
    {
     "data": {
      "image/png": "[encoded data removed]",
      "text/plain": [
       "<Figure size 432x360 with 1 Axes>"
      ]
     },
     "metadata": {
      "needs_background": "light"
     },
     "output_type": "display_data"
    }
   ],
   "source": [
    "survtable1 = km1.survival_function_\n",
    "S_km1 = survtable1.values\n",
    "t_1 = survtable1.index.values\n",
    "\n",
    "survtable2 = km2.survival_function_\n",
    "S_km2 = survtable2.values\n",
    "t_2 = survtable2.index.values\n",
    "\n",
    "t1_cens = T1[np.where(E1!=1)]\n",
    "C1 = survtable1.loc[t1_cens]\n",
    "t2_cens = T2[np.where(E2!=1)]\n",
    "C2 = survtable2.loc[t2_cens]\n",
    "\n",
    "fig,ax = plt.subplots(figsize=(6,5))\n",
    "\n",
    "col = (.1,.4,.7)\n",
    "ax.step(t_1,S_km1,where = 'post',color=col,lw=1.75)\n",
    "ax.scatter(t1_cens,C1,marker='|',color=col,s=50,lw=.75)\n",
    "\n",
    "col  = cp[1]\n",
    "ax.step(t_2,S_km2,where = 'post',color=col,lw=1.75)\n",
    "ax.scatter(t2_cens,C2,marker='|',color=col,s=50,lw=.75)\n"
   ]
  },
  {
   "cell_type": "code",
   "execution_count": 15,
   "metadata": {},
   "outputs": [
    {
     "data": {
      "text/html": [
       "<div>\n",
       "<style scoped>\n",
       "    .dataframe tbody tr th:only-of-type {\n",
       "        vertical-align: middle;\n",
       "    }\n",
       "\n",
       "    .dataframe tbody tr th {\n",
       "        vertical-align: top;\n",
       "    }\n",
       "\n",
       "    .dataframe thead th {\n",
       "        text-align: right;\n",
       "    }\n",
       "</style>\n",
       "<table border=\"1\" class=\"dataframe\">\n",
       "  <thead>\n",
       "    <tr style=\"text-align: right;\">\n",
       "      <th></th>\n",
       "      <th>coef</th>\n",
       "      <th>se(coef)</th>\n",
       "      <th>lower 0.95</th>\n",
       "      <th>upper 0.95</th>\n",
       "      <th>p</th>\n",
       "      <th>log(p)</th>\n",
       "    </tr>\n",
       "  </thead>\n",
       "  <tbody>\n",
       "    <tr>\n",
       "      <th>lambda_</th>\n",
       "      <td>0.028907</td>\n",
       "      <td>0.031472</td>\n",
       "      <td>-0.032778</td>\n",
       "      <td>0.090592</td>\n",
       "      <td>3.583617e-01</td>\n",
       "      <td>-1.026213</td>\n",
       "    </tr>\n",
       "    <tr>\n",
       "      <th>rho_</th>\n",
       "      <td>0.641806</td>\n",
       "      <td>0.249405</td>\n",
       "      <td>0.152980</td>\n",
       "      <td>1.130631</td>\n",
       "      <td>1.007207e-02</td>\n",
       "      <td>-4.597989</td>\n",
       "    </tr>\n",
       "    <tr>\n",
       "      <th>lambda_</th>\n",
       "      <td>0.263115</td>\n",
       "      <td>0.054388</td>\n",
       "      <td>0.156517</td>\n",
       "      <td>0.369713</td>\n",
       "      <td>1.313162e-06</td>\n",
       "      <td>-13.543073</td>\n",
       "    </tr>\n",
       "    <tr>\n",
       "      <th>rho_</th>\n",
       "      <td>1.161710</td>\n",
       "      <td>0.211020</td>\n",
       "      <td>0.748119</td>\n",
       "      <td>1.575301</td>\n",
       "      <td>3.687074e-08</td>\n",
       "      <td>-17.115848</td>\n",
       "    </tr>\n",
       "    <tr>\n",
       "      <th>lambda_</th>\n",
       "      <td>0.138253</td>\n",
       "      <td>0.035985</td>\n",
       "      <td>0.067724</td>\n",
       "      <td>0.208782</td>\n",
       "      <td>1.220452e-04</td>\n",
       "      <td>-9.011119</td>\n",
       "    </tr>\n",
       "    <tr>\n",
       "      <th>rho_</th>\n",
       "      <td>0.893703</td>\n",
       "      <td>0.148328</td>\n",
       "      <td>0.602987</td>\n",
       "      <td>1.184420</td>\n",
       "      <td>1.689033e-09</td>\n",
       "      <td>-20.199110</td>\n",
       "    </tr>\n",
       "  </tbody>\n",
       "</table>\n",
       "</div>"
      ],
      "text/plain": [
       "             coef  se(coef)  lower 0.95  upper 0.95             p     log(p)\n",
       "lambda_  0.028907  0.031472   -0.032778    0.090592  3.583617e-01  -1.026213\n",
       "rho_     0.641806  0.249405    0.152980    1.130631  1.007207e-02  -4.597989\n",
       "lambda_  0.263115  0.054388    0.156517    0.369713  1.313162e-06 -13.543073\n",
       "rho_     1.161710  0.211020    0.748119    1.575301  3.687074e-08 -17.115848\n",
       "lambda_  0.138253  0.035985    0.067724    0.208782  1.220452e-04  -9.011119\n",
       "rho_     0.893703  0.148328    0.602987    1.184420  1.689033e-09 -20.199110"
      ]
     },
     "execution_count": 15,
     "metadata": {},
     "output_type": "execute_result"
    }
   ],
   "source": [
    "\n",
    "T = lc_df['td_yrs']\n",
    "E = lc_df['LocalFailure']\n",
    "gard=lc_df['gardtx']\n",
    "idx = gard>33\n",
    "\n",
    "T1 = T[idx]\n",
    "T2 = T[~idx]\n",
    "E1 = E[idx]\n",
    "E2 = E[~idx]\n",
    "\n",
    "wf0 = WeibullFitter()\n",
    "wf0.fit(T,E)\n",
    "wf1 = WeibullFitter()\n",
    "wf1.fit(T1, E1)\n",
    "wf2 = WeibullFitter()\n",
    "wf2.fit(T2, E2)\n",
    "\n",
    "def S1(t):\n",
    "    return wf1.predict(t)\n",
    "def S2(t):\n",
    "    return wf2.predict(t)\n",
    "\n",
    "pd.concat([wf1.summary, wf2.summary, wf0.summary],axis=0)"
   ]
  },
  {
   "cell_type": "markdown",
   "metadata": {},
   "source": [
    "### wbl fit for gard 33 cutpoint"
   ]
  },
  {
   "cell_type": "code",
   "execution_count": 16,
   "metadata": {},
   "outputs": [],
   "source": [
    "def S1(t):\n",
    "    lambda_ = 0.028907\n",
    "    rho_ = 0.641806\n",
    "    y = np.exp(-1*np.power(lambda_*t,rho_))\n",
    "    return y\n",
    "\n",
    "def S2(t):\n",
    "    lambda_ = 0.263115\n",
    "    rho_ = 1.161710\n",
    "    y = np.exp(-1*np.power(lambda_*t,rho_))\n",
    "    return y"
   ]
  },
  {
   "cell_type": "markdown",
   "metadata": {},
   "source": [
    "### trials of escalation (panels 2 & 3)"
   ]
  },
  {
   "cell_type": "code",
   "execution_count": 17,
   "metadata": {},
   "outputs": [],
   "source": [
    "\n",
    "def calc_rxdose(rsi_array):\n",
    "    d = 2\n",
    "    beta = 0.05\n",
    "    n = 1\n",
    "    alpha_array = (ln(rsi_array)+beta*n*(d**2))/(-n*d)\n",
    "    rxdose_array = 33/(alpha_array+beta*d)\n",
    "    return rxdose_array\n",
    "\n",
    "def percentile(array,val):\n",
    "    pp = np.argwhere(array<=val).size/array.size\n",
    "    return pp\n",
    "\n",
    "\"\"\"\"------------------------------------------------\"\"\"\n",
    "\n",
    "trials = 100\n",
    "num_pts = 200\n",
    "t=np.arange(0,10,.1)\n",
    "\n",
    "rsi_cohort = np.zeros(num_pts)\n",
    "rxdose = np.zeros(num_pts)\n",
    "\n",
    "results_1 = np.zeros(shape=(trials,len(t)))\n",
    "results_2 = np.zeros(shape=(trials,len(t)))\n",
    "results_3 = np.zeros(shape=(trials,len(t)))\n",
    "results_4 = np.zeros(shape=(trials,len(t)))\n",
    "\n",
    "for i in range(trials):\n",
    "    rsi_cohort = np.random.choice(r,num_pts)\n",
    "    \n",
    "    cohort_1 = calc_rxdose(np.random.choice(r,num_pts))    # 60 Gy arm\n",
    "    cohort_2 = calc_rxdose(np.random.choice(r,num_pts))    # selective escalation\n",
    "\n",
    "    \"\"\"case 1: 60 vs. selected escalation to 74\"\"\"\n",
    "\n",
    "    C1 = percentile(cohort_1,60)\n",
    "    C2 = 1 - C1\n",
    "    lc_cohort_1 = C1*S1(t) + C2*S2(t)\n",
    "\n",
    "    C1 = percentile(cohort_2,74)\n",
    "    C2 = 1 - C1\n",
    "    lc_cohort_2 = C1*S1(t) + C2*S2(t)\n",
    "\n",
    "    dose_cohort_2 = np.where((cohort_2>60) & (cohort_2<=74), 74, 60)\n",
    "    average_dose_cohort2 = np.mean(dose_cohort_2)\n",
    "    \n",
    "    risk60 = (risk_p(60)+risk_e(60))/100\n",
    "    plc_cohort_1 = np.power(lc_cohort_1,np.exp(risk60))#*(1+60/14*0.074))\n",
    "\n",
    "    risk6074 = (risk_p(average_dose_cohort2)+risk_e(average_dose_cohort2))/100\n",
    "    plc_cohort_2 = np.power(lc_cohort_2,np.exp(risk6074)*(1+(average_dose_cohort2-60)/14*0.074))\n",
    "    \n",
    "    results_1[i,:] = plc_cohort_1\n",
    "    results_2[i,:] = plc_cohort_2\n",
    "    \n",
    "    \"\"\"case 1.5 -> 60 vs 60-74\"\"\"\n",
    "    \n",
    "    dose_cohort_4 = np.where((cohort_2>60) & (cohort_2<=74), cohort_2, 60)\n",
    "    average_dose_cohort4 = np.mean(dose_cohort_4)\n",
    "    risk60_thru_74 = (risk_p(average_dose_cohort4)+risk_e(average_dose_cohort4))/100\n",
    "    #plc_cohort_4 = np.power(lc_cohort_4,np.exp(risk6074)*(1+average_dose_cohort2/14*0.074))\n",
    "    plc_cohort_4 = np.power(lc_cohort_2,np.exp(risk60_thru_74)*(1+(average_dose_cohort4-60)/14*0.074))\n",
    "    results_4[i,:] = plc_cohort_4\n",
    "\n",
    "    \"\"\"case 2: 60 vs. 45-80\"\"\"\n",
    "    cohort_3 = calc_rxdose(np.random.choice(r,num_pts))    # precision dosing\n",
    "\n",
    "    C1 = percentile(cohort_1,80)\n",
    "    C2 = 1 - C1\n",
    "    lc_cohort_3 = C1*S1(t) + C2*S2(t)\n",
    "\n",
    "    dose_cohort_3 = np.where((cohort_2>=45) & (cohort_2<=80), cohort_2, 60)\n",
    "    average_dose_cohort3 = np.mean(dose_cohort_3)\n",
    "\n",
    "    risk4580 = (risk_p(average_dose_cohort3)+risk_e(average_dose_cohort3))/100\n",
    "    plc_cohort_3 = np.power(lc_cohort_3,np.exp(risk4580)*(1+(average_dose_cohort3-60)/14*0.074))\n",
    "    results_3[i,:] = plc_cohort_3\n",
    "\n",
    "plc_cohort_1_ave = np.average(results_1, axis=0)\n",
    "plc_cohort_2_ave = np.average(results_2, axis=0)\n",
    "plc_cohort_3_ave = np.average(results_3, axis=0)\n",
    "plc_cohort_4_ave = np.average(results_4, axis=0)"
   ]
  },
  {
   "cell_type": "markdown",
   "metadata": {},
   "source": [
    "calculating percentages at 2 and 5 years"
   ]
  },
  {
   "cell_type": "code",
   "execution_count": 18,
   "metadata": {},
   "outputs": [
    {
     "name": "stdout",
     "output_type": "stream",
     "text": [
      "3.4692573647909057\n",
      "\n",
      "7.583967791040699\n",
      "\n"
     ]
    }
   ],
   "source": [
    "for i in [20,50]:\n",
    "    z=plc_cohort_1_ave[i]*100\n",
    "    y=plc_cohort_2_ave[i]*100\n",
    "    print('{}\\n'.format(y-z))\n"
   ]
  },
  {
   "cell_type": "code",
   "execution_count": 19,
   "metadata": {},
   "outputs": [
    {
     "name": "stdout",
     "output_type": "stream",
     "text": [
      "3.641985906837803\n",
      "\n",
      "7.85070743549408\n",
      "\n"
     ]
    }
   ],
   "source": [
    "for i in [20,50]:\n",
    "    z=plc_cohort_1_ave[i]*100\n",
    "    y=plc_cohort_4_ave[i]*100\n",
    "    print('{}\\n'.format(y-z))\n"
   ]
  },
  {
   "cell_type": "code",
   "execution_count": 20,
   "metadata": {},
   "outputs": [
    {
     "name": "stdout",
     "output_type": "stream",
     "text": [
      "2.346253609373349\n",
      "\n",
      "4.958807563664855\n",
      "\n"
     ]
    }
   ],
   "source": [
    "for i in [20,50]:\n",
    "    z=plc_cohort_4_ave[i]*100\n",
    "    y=plc_cohort_3_ave[i]*100\n",
    "    print('{}\\n'.format(y-z))\n"
   ]
  },
  {
   "cell_type": "code",
   "execution_count": 21,
   "metadata": {},
   "outputs": [
    {
     "data": {
      "image/png": "[encoded data removed]",
      "text/plain": [
       "<Figure size 864x432 with 2 Axes>"
      ]
     },
     "metadata": {
      "needs_background": "light"
     },
     "output_type": "display_data"
    }
   ],
   "source": [
    "fig,axes = plt.subplots(nrows=1,ncols=2,figsize = (12,6),sharex=False)\n",
    "    \n",
    "\"\"\"------- first panel ---------\"\"\"\n",
    "ax = axes[0]\n",
    "\n",
    "ax.plot(t,plc_cohort_1_ave, label='PLC 60 Gy All')\n",
    "ax.plot(t,plc_cohort_2_ave, label='PLC 60 Gy \\nw. Selective 74 Gy Escalation')\n",
    "\n",
    "ax.plot(t,plc_cohort_4_ave, color='k')\n",
    "\n",
    "\n",
    "\"\"\"-------- second panel -----------\"\"\"\n",
    "ax = axes[1]\n",
    "        \n",
    "ax.plot(t,plc_cohort_1_ave,label='PLC 60 Gy All')\n",
    "ax.plot(t,plc_cohort_3_ave, color = cp[3],label='PLC 60 Gy \\nw. 45-80 Gy Individualized Dose')\n",
    "\n",
    "\n",
    "for i in range(axes.size):\n",
    "    ax=axes[i]    \n",
    "    ax.set_yticks(np.arange(0,1.2,.2),minor=False)\n",
    "\n",
    "    ax.set_xticks(range(6))\n",
    "    ax.set_xticklabels(list('012345'))\n",
    "    ax.set_xlabel('Time (yr)')\n",
    "    if i == 0: ax.set_ylabel('Probability of Event')\n",
    "    ax.set_yticks(np.arange(0,1,.05),minor=True)\n",
    "    ax.set_xbound(0,5)\n",
    "    ax.set_ylim(0,1.02)\n",
    "    ax.legend(fontsize=14)\n",
    "\n",
    "\n",
    "fig.subplots_adjust(wspace=.3)\n"
   ]
  },
  {
   "cell_type": "markdown",
   "metadata": {},
   "source": [
    "### combined 3 panel for fig #4"
   ]
  },
  {
   "cell_type": "code",
   "execution_count": 24,
   "metadata": {},
   "outputs": [
    {
     "data": {
      "image/png": "[encoded data removed]",
      "text/plain": [
       "<Figure size 1296x432 with 3 Axes>"
      ]
     },
     "metadata": {
      "needs_background": "light"
     },
     "output_type": "display_data"
    }
   ],
   "source": [
    "from matplotlib.gridspec import GridSpec\n",
    "\n",
    "r = nsclc.rsi\n",
    "d = 2\n",
    "beta = 0.05\n",
    "n = 1\n",
    "alpha_tcc = (np.log(r)+beta*n*(d**2))/(-n*d)\n",
    "rxdose_tcc = 33/(alpha_tcc+beta*d)\n",
    "rxdose_tcc=rxdose_tcc.values\n",
    "\n",
    "fig = plt.figure(figsize=(18,6))\n",
    "gs1 = GridSpec(1, 1, figure=fig)\n",
    "gs2 = GridSpec(1, 2, figure=fig)\n",
    "\n",
    "\"\"\" ------------------plotting histogram--------------- \"\"\"\n",
    "ax = fig.add_subplot(gs1[0,0])\n",
    "\n",
    "binlist=list(np.arange(0,150,2))+[300]\n",
    "\n",
    "\"\"\" <60 range \"\"\"\n",
    "xdata = rxdose_tcc[np.where(rxdose_tcc<60)]\n",
    "wts =  np.full(len(xdata),.0002)\n",
    "ax.hist(xdata,bins = binlist,\n",
    "        alpha=.6,#ec = 'k',\n",
    "        color=cp[0],  \n",
    "        weights = wts)\n",
    "\n",
    "\"\"\" 60-74 range \"\"\"\n",
    "xdata = rxdose_tcc[np.where((rxdose_tcc>60)&(rxdose_tcc<74))]\n",
    "wts =  np.full(len(xdata),.0002)\n",
    "ax.hist(xdata,bins = binlist,\n",
    "        alpha=.8,#ec = 'k',\n",
    "        color=(.4,.4,.4),  \n",
    "        weights = wts,zorder=5)\n",
    "\n",
    "\"\"\" >74 range \"\"\"\n",
    "xdata = rxdose_tcc[np.where((rxdose_tcc>74))]  #&(rxdose_tcc<80))]\n",
    "wts =  np.full(len(xdata),.0002)\n",
    "ax.hist(xdata,bins = binlist,\n",
    "        alpha=.7,#ec = 'k',\n",
    "        color=cp[3],  \n",
    "        weights = wts)\n",
    "\n",
    "rxdose_kde = create_kde(rxdose_tcc,bandwidth=.15)\n",
    "\n",
    "pp_60 = np.where(rxdose_kde[0]<=60,rxdose_kde[2],0).max()\n",
    "pp_74 = np.where(rxdose_kde[0]<=74,rxdose_kde[2],0).max()\n",
    "pp_60_74 = pp_74 - pp_60\n",
    "pp_over_74 = 1 - pp_74\n",
    "\n",
    "rxdose_kde = create_kde(rxdose_tcc,bandwidth=.26)\n",
    "ax.plot(rxdose_kde[0], rxdose_kde[1] , c=(.4,.4,.4),lw=1,ls='-',label = 'KDE')\n",
    "\n",
    "ax.text(.25,.65,'{:0.1f}%'.format(pp_60*100), transform=ax.transAxes, fontsize=15)\n",
    "ax.text(.485,.8,'{:0.1f}%'.format(pp_60_74*100), transform=ax.transAxes,fontsize=15)\n",
    "ax.text(.65,.65,'{:0.1f}%'.format(pp_over_74*100), transform=ax.transAxes,fontsize=15)\n",
    "\n",
    "ax.axvline(x = 60,c='k',lw=1,ls='--')\n",
    "ax.axvline(x = 74,c='k',lw=1,ls='--')\n",
    "\n",
    "ax.set_xlim(0,125)\n",
    "ax.set_yticks([])\n",
    "ax.set_xlabel('RxRSI for TCC Lung')\n",
    "ax.set_title('(A)',loc='left',pad=8)\n",
    "\n",
    "    \n",
    "\"\"\"------- second panel ---------\"\"\"\n",
    "# ax = axes[1]\n",
    "ax = fig.add_subplot(gs2[0,0])\n",
    "\n",
    "ax.plot(t,plc_cohort_1_ave, label='PLC 60 Gy All')\n",
    "ax.plot(t,plc_cohort_2_ave, label='PLC 60 Gy w. Selective\\n 74 Gy Escalation')\n",
    "\n",
    "ax.set_yticks(np.arange(0,1.2,.2),minor=False)\n",
    "ax.set_xticks(range(6))\n",
    "ax.set_xticklabels(list('012345'))\n",
    "ax.set_xlabel('Time (yr)')\n",
    "ax.set_ylabel('Probability of Event')\n",
    "ax.set_xbound(0,5)\n",
    "ax.set_ylim(0,1.02)\n",
    "ax.legend(fontsize=14)\n",
    "ax.set_title('(B)',loc='left',pad=8)\n",
    "\n",
    "\"\"\"-------- third panel -----------\"\"\"\n",
    "# ax = axes[2]\n",
    "ax = fig.add_subplot(gs2[0,1])\n",
    "        \n",
    "ax.plot(t,plc_cohort_1_ave,label='PLC 60 Gy All')\n",
    "ax.plot(t,plc_cohort_3_ave, color = cp[3],label='PLC 60 Gy w. 45-80 Gy\\nIndividualized Dose')\n",
    "\n",
    "   \n",
    "ax.set_yticks(np.arange(0,1.2,.2),minor=False)\n",
    "ax.set_xticks(range(6))\n",
    "ax.set_xticklabels(list('012345'))\n",
    "ax.set_xlabel('Time (yr)')\n",
    "ax.set_ylabel('Probability of Event')\n",
    "\n",
    "ax.set_xbound(0,5)\n",
    "ax.set_ylim(0,1.02)\n",
    "ax.legend(fontsize=14)\n",
    "ax.set_title('(C)',loc='left',pad=8)\n",
    "\n",
    "midpoint = 0.4\n",
    "gs1.tight_layout(fig, rect=[0, 0, midpoint, .98])\n",
    "gs2.tight_layout(fig, rect=[midpoint,0,1,.98])\n",
    "# gs2.update(wspace=.35)\n",
    "\n"
   ]
  },
  {
   "cell_type": "code",
   "execution_count": null,
   "metadata": {},
   "outputs": [],
   "source": []
  }
 ],
 "metadata": {
  "kernelspec": {
   "display_name": "Python 3",
   "language": "python",
   "name": "python3"
  },
  "language_info": {
   "codemirror_mode": {
    "name": "ipython",
    "version": 3
   },
   "file_extension": ".py",
   "mimetype": "text/x-python",
   "name": "python",
   "nbconvert_exporter": "python",
   "pygments_lexer": "ipython3",
   "version": "3.7.3"
  }
 },
 "nbformat": 4,
 "nbformat_minor": 4
}
